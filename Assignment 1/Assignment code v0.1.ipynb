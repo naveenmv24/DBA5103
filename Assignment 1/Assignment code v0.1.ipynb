{
 "cells": [
  {
   "cell_type": "code",
   "execution_count": 1,
   "id": "b4f2f914-a06e-4e11-87fb-eb7ce22f219e",
   "metadata": {},
   "outputs": [
    {
     "name": "stdout",
     "output_type": "stream",
     "text": [
      "Restricted license - for non-production use only - expires 2023-10-25\n",
      "  Stock  Buying Price  Current Share  Current Price  Expected Future Price  \\\n",
      "0    S1           1.2           1000            2.1                    2.0   \n",
      "1    S2           2.1           1000            3.2                    3.7   \n",
      "2    S3           3.2           1000            4.1                    5.2   \n",
      "3    S4           4.1           1000            5.1                    7.1   \n",
      "4    S5           4.5           1000            6.7                    9.1   \n",
      "\n",
      "   flag  \n",
      "0     1  \n",
      "1     1  \n",
      "2     1  \n",
      "3     1  \n",
      "4     1  \n"
     ]
    }
   ],
   "source": [
    "import numpy as np\n",
    "import pandas as pd\n",
    "from gurobipy import *\n",
    "\n",
    "m = Model ('Investment')\n",
    "\n",
    "#Read and define variables\n",
    "df = pd.read_csv('investment.csv')\n",
    "M, N = df.shape\n",
    "\n",
    "p = df['Buying Price']\n",
    "q = df['Current Price']\n",
    "r = df['Expected Future Price']\n",
    "s = df['Current Share']\n",
    "\n",
    "# Setting flag for those stocks whose Current price is greater than Buying Price\n",
    "# to determine capital gains tax\n",
    "df['flag'] = 0\n",
    "df.loc[df['Current Price'] > df['Buying Price'], 'flag'] = 1\n",
    "\n",
    "print (df)"
   ]
  },
  {
   "cell_type": "code",
   "execution_count": 2,
   "id": "c1226653-879e-4f77-a58e-206ef188c346",
   "metadata": {},
   "outputs": [
    {
     "name": "stdout",
     "output_type": "stream",
     "text": [
      "Gurobi Optimizer version 9.5.2 build v9.5.2rc0 (win64)\n",
      "Thread count: 6 physical cores, 12 logical processors, using up to 12 threads\n",
      "Optimize a model with 11 rows, 5 columns and 15 nonzeros\n",
      "Model fingerprint: 0xbc4d7746\n",
      "Variable types: 0 continuous, 5 integer (0 binary)\n",
      "Coefficient statistics:\n",
      "  Matrix range     [1e+00, 6e+00]\n",
      "  Objective range  [2e+00, 9e+00]\n",
      "  Bounds range     [0e+00, 0e+00]\n",
      "  RHS range        [1e+03, 9e+03]\n",
      "Presolve removed 10 rows and 0 columns\n",
      "Presolve time: 0.00s\n",
      "Presolved: 1 rows, 5 columns, 5 nonzeros\n",
      "Variable types: 0 continuous, 5 integer (0 binary)\n",
      "Found heuristic solution: objective 14199.200000\n",
      "\n",
      "Root relaxation: objective 1.535679e+04, 1 iterations, 0.00 seconds (0.00 work units)\n",
      "\n",
      "    Nodes    |    Current Node    |     Objective Bounds      |     Work\n",
      " Expl Unexpl |  Obj  Depth IntInf | Incumbent    BestBd   Gap | It/Node Time\n",
      "\n",
      "     0     0 15356.7909    0    1 14199.2000 15356.7909  8.15%     -    0s\n",
      "H    0     0                    15355.100000 15356.7909  0.01%     -    0s\n",
      "\n",
      "Explored 1 nodes (1 simplex iterations) in 0.01 seconds (0.00 work units)\n",
      "Thread count was 12 (of 12 available processors)\n",
      "\n",
      "Solution count 2: 15355.1 14199.2 \n",
      "\n",
      "Optimal solution found (tolerance 1.00e-04)\n",
      "Best objective 1.535510000000e+04, best bound 1.535660000000e+04, gap 0.0098%\n"
     ]
    }
   ],
   "source": [
    "# Creating variable to optimize based on the question\n",
    "# Please note that Number of Shares to sell has been set as an integer value as in most stock exchanges,\n",
    "# buying and selling of fractional shares are not equipped\n",
    "x = m.addVars(M, vtype = GRB.INTEGER, name = \"Stock\")\n",
    "\n",
    "# Objective to maximize\n",
    "m.setObjective(quicksum((s[i] - x[i])*r[i] for i in range(M)),GRB.MAXIMIZE)\n",
    "\n",
    "# Constraints below\n",
    "f = df['flag']\n",
    "m.addConstr( quicksum(0.99*x[i]*q[i] - (x[i]*q[i] - x[i]*p[i])*f[i]*0.30 for i in range(M))  >= 9000, name = 'Transacted Value')\n",
    "for i in range(M):\n",
    "    m.addConstr( s[i] - x[i] >= 0 )\n",
    "    m.addConstr( x[i] >= 0)\n",
    "\n",
    "# Solving the model\n",
    "m.optimize()"
   ]
  },
  {
   "cell_type": "code",
   "execution_count": 3,
   "id": "d6ea9321-3ab4-4e0c-8e2f-b0d365e9d8b0",
   "metadata": {},
   "outputs": [
    {
     "name": "stdout",
     "output_type": "stream",
     "text": [
      "Number of shares of each stock to sell:\n",
      "Stock[0] 999.0\n",
      "Stock[1] 1000.0\n",
      "Stock[2] 1000.0\n",
      "Stock[3] 118.0\n",
      "Stock[4] 1.0\n",
      "Obj: 15355.1\n"
     ]
    }
   ],
   "source": [
    "#  Print optimal solutions and optimal value\n",
    "print(\"Number of shares of each stock to sell:\")\n",
    "for v in m.getVars():\n",
    "    print(v.VarName, v.x)\n",
    "    \n",
    "print('Obj:', m.objVal)"
   ]
  }
 ],
 "metadata": {
  "kernelspec": {
   "display_name": "Python 3 (ipykernel)",
   "language": "python",
   "name": "python3"
  },
  "language_info": {
   "codemirror_mode": {
    "name": "ipython",
    "version": 3
   },
   "file_extension": ".py",
   "mimetype": "text/x-python",
   "name": "python",
   "nbconvert_exporter": "python",
   "pygments_lexer": "ipython3",
   "version": "3.10.5"
  }
 },
 "nbformat": 4,
 "nbformat_minor": 5
}
